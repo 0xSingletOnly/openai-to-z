{
 "cells": [
  {
   "cell_type": "markdown",
   "id": "6eb63d2e",
   "metadata": {},
   "source": [
    "# Introduction\n",
    "Hello, welcome back! In our previous notebook on Checkpoint 0, we have successfully downloaded a LiDAR image and got o4 mini to explain that image to us. While the model's performance was very impressive, that brought me even more questions, including the realisation that I do not quite understand how to read or use satellite/LiDAR images for archeological research/discovery.\n",
    "\n",
    "Thus, we will work on addressing these gaps. After today's notebook, we should be sufficiently ready to tackle Checkpoint 1, which involves mining and gathering insights from various sources."
   ]
  },
  {
   "cell_type": "markdown",
   "id": "52935a34",
   "metadata": {},
   "source": [
    "# Remote sensing in archaeology\n",
    "Remote sensing allows archaeologists to discover and investigate sites without disruptive excavation. This allows archeologists to explore large areas and identify potential features that may not be visible on the ground. \n",
    "\n",
    "There are two key remote sensing techniques widely used in archaeology- satellite imagery and LIDAR.\n"
   ]
  },
  {
   "cell_type": "markdown",
   "id": "c1dac076",
   "metadata": {},
   "source": [
    "## Satellite imagery\n",
    "Satellites that orbit the Earth can use different wavelenghts of light to capture information about the Earth's surface. By analysing these images, archaeologists can look for subtle anomalies that might indicate buried or hidden archaeological features.\n",
    "\n",
    "Here are some of the clues that might suggest an archaeology site:\n",
    "- Crop marks: Buried structures like walls or ditches affect how plants grow above them. Walls might stunt growth, while ditches, which retain more moisture, might lead to lusher vegetation. These differences in growth can create visible patterns or \"crop marks\" in agricultural fields, especially at certain times of the year.\n",
    "- Soil Marks: Variations in soil color can indicate the presence of buried features. For example, disturbed soil from pits or the presence of building materials like stone or mudbrick can result in different soil coloration compared to the surrounding area.\n",
    "- Shadow Marks: When the sun is at a low angle, subtle changes in the elevation of the ground surface, even those caused by buried or eroded structures, can cast shadows that reveal their outlines.\n",
    "Thermal Anomalies: Buried structures can retain and release heat differently than the surrounding soil, creating subtle temperature variations that can be detected with thermal infrared imagery.\n",
    "- Vegetation Suppression/Enhancement: Similar to crop marks, buried features can either suppress or enhance vegetation growth depending on how they affect drainage and soil composition.\n",
    "\n",
    "Satellites allow us to monitor changes over time, while high-resolution satellite imagery can even reveal features less than a meter in size. Multi-spectral data from satellites can help identify landscape features like soil, vegetation, geology, and potential man-made structures based on their unique signatures."
   ]
  },
  {
   "cell_type": "markdown",
   "id": "d6faa2bd",
   "metadata": {},
   "source": [
    "## LIDAR (Light Detection and Ranging)\n",
    "LIDAR is a method that uses laser pulses to create highly detailed, three-dimensional maps of the ground surface. This technique is particularly effective at \"seeing through\" dense vegetation, which is incredibly useful for the Amazon, which is heavily forested.\n",
    "\n",
    "### How LiDAR works in archaeology\n",
    "1. A LiDAR sensor, typically mounted on an aircraft or drone, emits rapid pulses of laser light towards the ground.\n",
    "2. These laser pulses reflect off surfaces and return to the sensor.\n",
    "3. The system precisely measures the time it takes for each pulse to return, calculating the distance between the sensor and the ground.\n",
    "4. Millions of these measurements create a dense \"point cloud\" of 3D daqta points representing the terrain.\n",
    "5. Sophiscated software is used to process this point cloud, filtering out vegetation and buildings to reveal the bare earth surface.\n",
    "\n",
    "The resulting output is called Digital Elevation Models (DEM), which can reveal subtle topographic changes that indicate the presence of archaeological features like mounds, earthworks, terraces, roads, canals and structures that are otherwise hidden by vegetation. While LiDAR is excellent for mapping surface and near-surface features, it generally cannot detect small artifacts or structures buried deep underground- other techniques like Ground Penetrating Radar are more suitable."
   ]
  },
  {
   "cell_type": "markdown",
   "id": "93d9211d",
   "metadata": {},
   "source": [
    "## Interpreting the Data"
   ]
  },
  {
   "cell_type": "markdown",
   "id": "b2b15bda",
   "metadata": {},
   "source": []
  }
 ],
 "metadata": {
  "language_info": {
   "name": "python"
  }
 },
 "nbformat": 4,
 "nbformat_minor": 5
}
