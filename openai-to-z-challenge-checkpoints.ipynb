{
 "cells": [
  {
   "cell_type": "markdown",
   "metadata": {},
   "source": [
    "# Introduction\n",
    "Well hello there! I'm super excited about the OpenAI to Z Kaggle Challenge- I've always been a big fan of applied AI, and am super curious about the findings and archeological progress that we will achieve in this challenge!\n",
    "\n",
    "As a former ML engineer- I know next to nothing about archeology. As such, I'll be documenting my progress and sharing my learnings. I'll be starting with going through the [list of checkpoints that OpenAI has provided](https://cdn.openai.com/pdf/a9455c3b-c6e1-49cf-a5cc-c40ed07c0b9f/checkpoints-openai-to-z-challenge.pdf)."
   ]
  },
  {
   "cell_type": "code",
   "execution_count": null,
   "metadata": {
    "_cell_guid": "b1076dfc-b9ad-4769-8c92-a6c4dae69d19",
    "_uuid": "8f2839f25d086af736a60e9eeb907d3b93b6e0e5",
    "execution": {
     "iopub.execute_input": "2025-05-18T02:01:54.598033Z",
     "iopub.status.busy": "2025-05-18T02:01:54.597801Z",
     "iopub.status.idle": "2025-05-18T02:01:56.762065Z",
     "shell.execute_reply": "2025-05-18T02:01:56.761062Z",
     "shell.execute_reply.started": "2025-05-18T02:01:54.598012Z"
    },
    "trusted": true
   },
   "outputs": [
    {
     "name": "stdout",
     "output_type": "stream",
     "text": [
      "/kaggle/input/openai-to-z-challenge/README\n"
     ]
    }
   ],
   "source": [
    "import numpy as np\n",
    "import pandas as pd\n",
    "\n",
    "import os"
   ]
  },
  {
   "cell_type": "markdown",
   "metadata": {},
   "source": [
    "# Checkpoint 1- Familiarise yourself with the content and data\n",
    "1. Download one OpenTopography LiDAR tile or one Sentinel‑2 scene ID.\n",
    "2. Run a single OpenAI o3/o4‑mini or GPT‑4.1 prompt on that data (e.g., “describe surface features in plain English”).\n",
    "3. Print model version and dataset ID.\n",
    "\n",
    "## Steps\n",
    "1. I went to [OpenTopography's datasets page](https://portal.opentopography.org/datasets) with the initial aim of getting LiDAR data on Brazil- ideally regions like Acre where papers like Iriarte et al. (2020) focus on SW Amazonia (which includes Acre) and mound villages. Unfortunately, I could only find airborne LiDAR on Sao Paulo, and it was limited to academic access.\n",
    "2. I then shifted my objective to simply loading a OpenTopography LiDAR tile to familiarise myself with what the data looks like. With that in mind, I landed on [Lidar Survey of the Centralia Mine, WA 2023](https://portal.opentopography.org/datasetMetadata?otCollectionID=OT.112024.6339.1). I selected an area of roughly 2 square km that covered both slopes and water. I opted for raster data as I understand that raster data is smaller in size and easier to work with, albeit at the cost of some details.\n",
    "3. I submitted the job and it took 10 seconds for the job to run on OpenTopography. The compressed raster file was 54MB for an area of 2 square km. Upon unzipping the file, there were 2 tif images.\n",
    "4. To open the tif images and properly visualise them, I used [QGIS](https://qgis.org/), a free and open source spatial visualisation tool."
   ]
  },
  {
   "cell_type": "markdown",
   "metadata": {},
   "source": []
  },
  {
   "cell_type": "code",
   "execution_count": null,
   "metadata": {
    "trusted": true
   },
   "outputs": [],
   "source": []
  },
  {
   "cell_type": "markdown",
   "metadata": {},
   "source": []
  },
  {
   "cell_type": "code",
   "execution_count": null,
   "metadata": {
    "trusted": true
   },
   "outputs": [],
   "source": []
  }
 ],
 "metadata": {
  "kaggle": {
   "accelerator": "none",
   "dataSources": [
    {
     "databundleVersionId": 12334818,
     "sourceId": 101597,
     "sourceType": "competition"
    }
   ],
   "dockerImageVersionId": 31040,
   "isGpuEnabled": false,
   "isInternetEnabled": true,
   "language": "python",
   "sourceType": "notebook"
  },
  "kernelspec": {
   "display_name": "Python 3",
   "language": "python",
   "name": "python3"
  },
  "language_info": {
   "codemirror_mode": {
    "name": "ipython",
    "version": 3
   },
   "file_extension": ".py",
   "mimetype": "text/x-python",
   "name": "python",
   "nbconvert_exporter": "python",
   "pygments_lexer": "ipython3",
   "version": "3.11.11"
  }
 },
 "nbformat": 4,
 "nbformat_minor": 4
}
